{
 "cells": [
  {
   "cell_type": "code",
   "execution_count": 1,
   "id": "2c703e47-0d8e-4422-aaa0-ddb94c043add",
   "metadata": {},
   "outputs": [],
   "source": [
    "from pyspark.sql import SparkSession"
   ]
  },
  {
   "cell_type": "code",
   "execution_count": 2,
   "id": "03e9f18a-a2c7-418f-b523-066f812364ae",
   "metadata": {},
   "outputs": [],
   "source": [
    "spark=SparkSession.builder.appName('thresh').getOrCreate()"
   ]
  },
  {
   "cell_type": "code",
   "execution_count": 34,
   "id": "7ae78b34-fc98-4cf9-88fa-4767ea689f84",
   "metadata": {},
   "outputs": [],
   "source": [
    "van=spark.read.csv(\"C:\\\\Users\\\\AVG001\\\\Desktop\\\\company.csv\",inferSchema=True,header=True)"
   ]
  },
  {
   "cell_type": "code",
   "execution_count": 5,
   "id": "328762ce-1316-4e16-be9d-0df87bae7abb",
   "metadata": {},
   "outputs": [
    {
     "data": {
      "text/html": [
       "\n",
       "            <div>\n",
       "                <p><b>SparkSession - in-memory</b></p>\n",
       "                \n",
       "        <div>\n",
       "            <p><b>SparkContext</b></p>\n",
       "\n",
       "            <p><a href=\"http://DESKTOP-8LFFGPP:4040\">Spark UI</a></p>\n",
       "\n",
       "            <dl>\n",
       "              <dt>Version</dt>\n",
       "                <dd><code>v3.5.2</code></dd>\n",
       "              <dt>Master</dt>\n",
       "                <dd><code>local[*]</code></dd>\n",
       "              <dt>AppName</dt>\n",
       "                <dd><code>thresh</code></dd>\n",
       "            </dl>\n",
       "        </div>\n",
       "        \n",
       "            </div>\n",
       "        "
      ],
      "text/plain": [
       "<pyspark.sql.session.SparkSession at 0x16c055a4a50>"
      ]
     },
     "execution_count": 5,
     "metadata": {},
     "output_type": "execute_result"
    }
   ],
   "source": [
    "spark"
   ]
  },
  {
   "cell_type": "code",
   "execution_count": 35,
   "id": "04cbd0f0-c973-4e62-adfb-f9f61ca44f22",
   "metadata": {},
   "outputs": [
    {
     "name": "stdout",
     "output_type": "stream",
     "text": [
      "+-------+---+----------+------+\n",
      "|   name|age|experience|salery|\n",
      "+-------+---+----------+------+\n",
      "|     jp| 20|         1| 40000|\n",
      "| vamshi| 21|         2| 30000|\n",
      "|akshith| 20|         2| 20000|\n",
      "|  srvan| 20|         1| 20000|\n",
      "|  shiva| 21|      NULL| 25000|\n",
      "|   NULL| 21|         2| 18000|\n",
      "|   NULL| 26|      NULL|  NULL|\n",
      "+-------+---+----------+------+\n",
      "\n"
     ]
    }
   ],
   "source": [
    "van.show()"
   ]
  },
  {
   "cell_type": "code",
   "execution_count": 36,
   "id": "03b0bf15-2f5a-4eaa-bdd4-90ddedc75e33",
   "metadata": {},
   "outputs": [
    {
     "name": "stdout",
     "output_type": "stream",
     "text": [
      "+------+---+----------+------+\n",
      "|  name|age|experience|salery|\n",
      "+------+---+----------+------+\n",
      "|    jp| 20|         1| 40000|\n",
      "|vamshi| 21|         2| 30000|\n",
      "+------+---+----------+------+\n",
      "only showing top 2 rows\n",
      "\n"
     ]
    }
   ],
   "source": [
    "van.show(2)"
   ]
  },
  {
   "cell_type": "code",
   "execution_count": 37,
   "id": "350632de-43eb-46c2-9078-a2e433acaaa3",
   "metadata": {},
   "outputs": [
    {
     "name": "stdout",
     "output_type": "stream",
     "text": [
      "+---+\n",
      "|age|\n",
      "+---+\n",
      "| 20|\n",
      "| 21|\n",
      "| 20|\n",
      "| 20|\n",
      "| 21|\n",
      "| 21|\n",
      "| 26|\n",
      "+---+\n",
      "\n"
     ]
    }
   ],
   "source": [
    "van.select(\"age\").show()"
   ]
  },
  {
   "cell_type": "code",
   "execution_count": 38,
   "id": "fd5689d6-b944-41f9-b73c-954db45b158b",
   "metadata": {},
   "outputs": [
    {
     "name": "stdout",
     "output_type": "stream",
     "text": [
      "+---+-------+\n",
      "|age|   name|\n",
      "+---+-------+\n",
      "| 20|     jp|\n",
      "| 21| vamshi|\n",
      "| 20|akshith|\n",
      "| 20|  srvan|\n",
      "| 21|  shiva|\n",
      "| 21|   NULL|\n",
      "| 26|   NULL|\n",
      "+---+-------+\n",
      "\n"
     ]
    }
   ],
   "source": [
    "van.select(['age','name']).show()"
   ]
  },
  {
   "cell_type": "code",
   "execution_count": 39,
   "id": "2b36c738-58da-4912-8eda-042dcb353e40",
   "metadata": {},
   "outputs": [
    {
     "data": {
      "text/plain": [
       "['name', 'age', 'experience', 'salery']"
      ]
     },
     "execution_count": 39,
     "metadata": {},
     "output_type": "execute_result"
    }
   ],
   "source": [
    " van.columns"
   ]
  },
  {
   "cell_type": "code",
   "execution_count": 40,
   "id": "d2926b93-d752-477d-9c3b-2a22d33a74f3",
   "metadata": {},
   "outputs": [
    {
     "name": "stdout",
     "output_type": "stream",
     "text": [
      "+-------+---+----------+------+\n",
      "|   name|age|experience|salery|\n",
      "+-------+---+----------+------+\n",
      "|     jp| 20|         1| 40000|\n",
      "| vamshi| 21|         2| 30000|\n",
      "|akshith| 20|         2| 20000|\n",
      "|  srvan| 20|         1| 20000|\n",
      "|  shiva| 21|      NULL| 25000|\n",
      "|   NULL| 21|         2| 18000|\n",
      "|   NULL| 26|      NULL|  NULL|\n",
      "+-------+---+----------+------+\n",
      "\n"
     ]
    }
   ],
   "source": [
    "van.show()"
   ]
  },
  {
   "cell_type": "code",
   "execution_count": 41,
   "id": "1c59750e-b3cd-469b-9c78-b1f801e23a33",
   "metadata": {},
   "outputs": [
    {
     "data": {
      "text/plain": [
       "['name', 'age', 'experience', 'salery']"
      ]
     },
     "execution_count": 41,
     "metadata": {},
     "output_type": "execute_result"
    }
   ],
   "source": [
    "van.columns"
   ]
  },
  {
   "cell_type": "code",
   "execution_count": 42,
   "id": "d5bf1e36-365a-45c8-ae08-a91a5e28044d",
   "metadata": {},
   "outputs": [
    {
     "name": "stdout",
     "output_type": "stream",
     "text": [
      "+-------+---+----------+------+\n",
      "|   name|age|experience|salery|\n",
      "+-------+---+----------+------+\n",
      "|     jp| 20|         1| 40000|\n",
      "| vamshi| 21|         2| 30000|\n",
      "|akshith| 20|         2| 20000|\n",
      "|  srvan| 20|         1| 20000|\n",
      "+-------+---+----------+------+\n",
      "\n"
     ]
    }
   ],
   "source": [
    "van.na.drop().show()"
   ]
  },
  {
   "cell_type": "code",
   "execution_count": 43,
   "id": "13906100-ad79-46cb-8284-3bd57463d8ea",
   "metadata": {},
   "outputs": [
    {
     "name": "stdout",
     "output_type": "stream",
     "text": [
      "+-------+---+----------+------+\n",
      "|   name|age|experience|salery|\n",
      "+-------+---+----------+------+\n",
      "|     jp| 20|         1| 40000|\n",
      "| vamshi| 21|         2| 30000|\n",
      "|akshith| 20|         2| 20000|\n",
      "|  srvan| 20|         1| 20000|\n",
      "|  shiva| 21|      NULL| 25000|\n",
      "|   NULL| 21|         2| 18000|\n",
      "+-------+---+----------+------+\n",
      "\n"
     ]
    }
   ],
   "source": [
    "van.na.drop(thresh=2).show()"
   ]
  },
  {
   "cell_type": "code",
   "execution_count": 44,
   "id": "48ae91e2-aec7-45f0-9214-e91faa7f5294",
   "metadata": {},
   "outputs": [
    {
     "name": "stdout",
     "output_type": "stream",
     "text": [
      "+-------+---+----------+------+\n",
      "|   name|age|experience|salery|\n",
      "+-------+---+----------+------+\n",
      "|     jp| 20|         1| 40000|\n",
      "| vamshi| 21|         2| 30000|\n",
      "|akshith| 20|         2| 20000|\n",
      "|  srvan| 20|         1| 20000|\n",
      "+-------+---+----------+------+\n",
      "\n"
     ]
    }
   ],
   "source": [
    "van.na.drop(how=\"any\").show()"
   ]
  },
  {
   "cell_type": "code",
   "execution_count": 45,
   "id": "1a506463-fafb-4662-a873-2811df9cef90",
   "metadata": {},
   "outputs": [
    {
     "name": "stdout",
     "output_type": "stream",
     "text": [
      "+-------+---+----------+------+\n",
      "|   name|age|experience|salery|\n",
      "+-------+---+----------+------+\n",
      "|     jp| 20|         1| 40000|\n",
      "| vamshi| 21|         2| 30000|\n",
      "|akshith| 20|         2| 20000|\n",
      "|  srvan| 20|         1| 20000|\n",
      "|   NULL| 21|         2| 18000|\n",
      "+-------+---+----------+------+\n",
      "\n"
     ]
    }
   ],
   "source": [
    "van.na.drop(subset=['experience']).show()"
   ]
  },
  {
   "cell_type": "code",
   "execution_count": 46,
   "id": "0e12e058-b6c6-4e10-a6cb-a26fd53eaa39",
   "metadata": {},
   "outputs": [
    {
     "name": "stdout",
     "output_type": "stream",
     "text": [
      "+--------------+---+----------+------+\n",
      "|          name|age|experience|salery|\n",
      "+--------------+---+----------+------+\n",
      "|            jp| 20|         1| 40000|\n",
      "|        vamshi| 21|         2| 30000|\n",
      "|       akshith| 20|         2| 20000|\n",
      "|         srvan| 20|         1| 20000|\n",
      "|         shiva| 21|      NULL| 25000|\n",
      "|missing values| 21|         2| 18000|\n",
      "|missing values| 26|      NULL|  NULL|\n",
      "+--------------+---+----------+------+\n",
      "\n"
     ]
    }
   ],
   "source": [
    "van.na.fill(\"missing values\").show()"
   ]
  },
  {
   "cell_type": "code",
   "execution_count": 31,
   "id": "6831b94d-6366-431d-9412-4296d82d45a0",
   "metadata": {},
   "outputs": [],
   "source": [
    "from pyspark.ml.feature import Imputer"
   ]
  },
  {
   "cell_type": "code",
   "execution_count": 32,
   "id": "13778234-71f6-48f7-a4d8-34e6764a0336",
   "metadata": {},
   "outputs": [],
   "source": [
    "imputer=Imputer(inputCols=['age','experience','salery'],\n",
    "                outputCols=[\"{}_imputed\".format(c)for c in ['age','experience','salery']]).setStrategy(\"mean\")"
   ]
  },
  {
   "cell_type": "code",
   "execution_count": 47,
   "id": "917f1930-5c3f-45f7-8cd9-90ab8b153876",
   "metadata": {},
   "outputs": [
    {
     "name": "stdout",
     "output_type": "stream",
     "text": [
      "+-------+---+----------+------+-----------+------------------+--------------+\n",
      "|   name|age|experience|salery|age_imputed|experience_imputed|salery_imputed|\n",
      "+-------+---+----------+------+-----------+------------------+--------------+\n",
      "|     jp| 20|         1| 40000|         20|                 1|         40000|\n",
      "| vamshi| 21|         2| 30000|         21|                 2|         30000|\n",
      "|akshith| 20|         2| 20000|         20|                 2|         20000|\n",
      "|  srvan| 20|         1| 20000|         20|                 1|         20000|\n",
      "|  shiva| 21|      NULL| 25000|         21|                 1|         25000|\n",
      "|   NULL| 21|         2| 18000|         21|                 2|         18000|\n",
      "|   NULL| 26|      NULL|  NULL|         26|                 1|         25500|\n",
      "+-------+---+----------+------+-----------+------------------+--------------+\n",
      "\n"
     ]
    }
   ],
   "source": [
    "imputer.fit(van).transform(van).show()"
   ]
  },
  {
   "cell_type": "code",
   "execution_count": 48,
   "id": "2c560188-48ed-4cb4-9924-296d508500b9",
   "metadata": {},
   "outputs": [
    {
     "name": "stdout",
     "output_type": "stream",
     "text": [
      "+-------+---+----------+------+\n",
      "|   name|age|experience|salery|\n",
      "+-------+---+----------+------+\n",
      "| vamshi| 21|         2| 30000|\n",
      "|akshith| 20|         2| 20000|\n",
      "|  srvan| 20|         1| 20000|\n",
      "|  shiva| 21|      NULL| 25000|\n",
      "|   NULL| 21|         2| 18000|\n",
      "+-------+---+----------+------+\n",
      "\n"
     ]
    }
   ],
   "source": [
    "van.filter(\"salery<=30000\").show()"
   ]
  },
  {
   "cell_type": "code",
   "execution_count": 50,
   "id": "57ab4cd6-542e-4d7c-84fe-46003ca67d22",
   "metadata": {},
   "outputs": [
    {
     "name": "stdout",
     "output_type": "stream",
     "text": [
      "+------+---+------+\n",
      "|  name|age|salery|\n",
      "+------+---+------+\n",
      "|    jp| 20| 40000|\n",
      "|vamshi| 21| 30000|\n",
      "| shiva| 21| 25000|\n",
      "+------+---+------+\n",
      "\n"
     ]
    }
   ],
   "source": [
    " van.filter(\"salery>=25000\").select(['name','age','salery']).show()"
   ]
  },
  {
   "cell_type": "code",
   "execution_count": 52,
   "id": "cafd0ceb-130d-4a6f-97c4-d51771fe37c4",
   "metadata": {},
   "outputs": [
    {
     "name": "stdout",
     "output_type": "stream",
     "text": [
      "+-------+---+----------+------+\n",
      "|   name|age|experience|salery|\n",
      "+-------+---+----------+------+\n",
      "| vamshi| 21|         2| 30000|\n",
      "|akshith| 20|         2| 20000|\n",
      "|  srvan| 20|         1| 20000|\n",
      "|  shiva| 21|      NULL| 25000|\n",
      "|   NULL| 21|         2| 18000|\n",
      "+-------+---+----------+------+\n",
      "\n"
     ]
    }
   ],
   "source": [
    "van.filter(van['salery']<=30000).show()"
   ]
  },
  {
   "cell_type": "code",
   "execution_count": 53,
   "id": "9ad13a09-519e-4e15-bf63-3fba2aa43776",
   "metadata": {},
   "outputs": [
    {
     "name": "stdout",
     "output_type": "stream",
     "text": [
      "+-------+---+----------+------+\n",
      "|   name|age|experience|salery|\n",
      "+-------+---+----------+------+\n",
      "|     jp| 20|         1| 40000|\n",
      "| vamshi| 21|         2| 30000|\n",
      "|akshith| 20|         2| 20000|\n",
      "|  srvan| 20|         1| 20000|\n",
      "|  shiva| 21|      NULL| 25000|\n",
      "+-------+---+----------+------+\n",
      "\n"
     ]
    }
   ],
   "source": [
    "van.filter((van['salery']<=40000)&(van['salery']>=20000)).show()"
   ]
  },
  {
   "cell_type": "code",
   "execution_count": 56,
   "id": "41df79c3-3dcf-4429-a42e-2a4a4f077818",
   "metadata": {},
   "outputs": [],
   "source": [
    "imputer=spark.read.csv(\"C:\\\\Users\\\\AVG001\\\\Desktop\\\\job.csv\",inferSchema=True,header=True)"
   ]
  },
  {
   "cell_type": "code",
   "execution_count": 57,
   "id": "5696d401-5095-4c52-85f6-d03209e04c7a",
   "metadata": {},
   "outputs": [
    {
     "name": "stdout",
     "output_type": "stream",
     "text": [
      "+-------+-------------+------+\n",
      "|   Name|  departments|salary|\n",
      "+-------+-------------+------+\n",
      "|     jp|data engineer|100000|\n",
      "| vamshi| data science| 50000|\n",
      "| vishnu|          iot| 40000|\n",
      "|akshith|     big data| 35000|\n",
      "|     jp|data engineer| 60000|\n",
      "|  shiva|   web design| 45000|\n",
      "|akshith|     big data| 75000|\n",
      "| vamshi| data science| 50000|\n",
      "|  shiva|   web design| 62000|\n",
      "+-------+-------------+------+\n",
      "\n"
     ]
    }
   ],
   "source": [
    "imputer.show()"
   ]
  },
  {
   "cell_type": "code",
   "execution_count": 58,
   "id": "a23f0432-2949-479b-b751-5738b00f2a4b",
   "metadata": {},
   "outputs": [
    {
     "data": {
      "text/plain": [
       "['Name', 'departments', 'salary']"
      ]
     },
     "execution_count": 58,
     "metadata": {},
     "output_type": "execute_result"
    }
   ],
   "source": [
    "imputer.columns"
   ]
  },
  {
   "cell_type": "code",
   "execution_count": 60,
   "id": "b2233f01-7135-4644-905a-87153ce34caf",
   "metadata": {},
   "outputs": [
    {
     "name": "stdout",
     "output_type": "stream",
     "text": [
      "+-------+\n",
      "|   name|\n",
      "+-------+\n",
      "|     jp|\n",
      "| vamshi|\n",
      "| vishnu|\n",
      "|akshith|\n",
      "|     jp|\n",
      "|  shiva|\n",
      "|akshith|\n",
      "| vamshi|\n",
      "|  shiva|\n",
      "+-------+\n",
      "\n"
     ]
    }
   ],
   "source": [
    "imputer.select(\"name\").show()"
   ]
  },
  {
   "cell_type": "code",
   "execution_count": 61,
   "id": "cbe1a96d-b0d0-4faa-b709-c1365b7379fa",
   "metadata": {},
   "outputs": [
    {
     "name": "stdout",
     "output_type": "stream",
     "text": [
      "+-------+------+\n",
      "|   name|salary|\n",
      "+-------+------+\n",
      "|     jp|100000|\n",
      "| vamshi| 50000|\n",
      "| vishnu| 40000|\n",
      "|akshith| 35000|\n",
      "|     jp| 60000|\n",
      "|  shiva| 45000|\n",
      "|akshith| 75000|\n",
      "| vamshi| 50000|\n",
      "|  shiva| 62000|\n",
      "+-------+------+\n",
      "\n"
     ]
    }
   ],
   "source": [
    "imputer.select(['name','salary']).show()"
   ]
  },
  {
   "cell_type": "code",
   "execution_count": 62,
   "id": "fa31ddc9-d832-445a-af31-ae36b3afbbb9",
   "metadata": {},
   "outputs": [
    {
     "name": "stdout",
     "output_type": "stream",
     "text": [
      "root\n",
      " |-- Name: string (nullable = true)\n",
      " |-- departments: string (nullable = true)\n",
      " |-- salary: integer (nullable = true)\n",
      "\n"
     ]
    }
   ],
   "source": [
    "imputer.printSchema()"
   ]
  },
  {
   "cell_type": "code",
   "execution_count": 63,
   "id": "dd97f38b-0837-4428-86cc-f359cc9f5651",
   "metadata": {},
   "outputs": [
    {
     "name": "stdout",
     "output_type": "stream",
     "text": [
      "+-------+-----------+\n",
      "|   name|sum(salary)|\n",
      "+-------+-----------+\n",
      "|akshith|     110000|\n",
      "|     jp|     160000|\n",
      "| vishnu|      40000|\n",
      "| vamshi|     100000|\n",
      "|  shiva|     107000|\n",
      "+-------+-----------+\n",
      "\n"
     ]
    }
   ],
   "source": [
    "imputer.groupBy('name').sum().show()"
   ]
  },
  {
   "cell_type": "code",
   "execution_count": 2,
   "id": "4b23a98c-10d8-4cad-83ea-65b2384ebc49",
   "metadata": {},
   "outputs": [],
   "source": [
    "from pyspark.sql import SparkSession\n",
    "spark=SparkSession.builder.appName(\"imputer\").getOrCreate()"
   ]
  },
  {
   "cell_type": "code",
   "execution_count": 5,
   "id": "de8f9944-0ce2-4060-9dba-65b2c32d816d",
   "metadata": {},
   "outputs": [],
   "source": [
    "imputer=spark.read.csv(\"C:\\\\Users\\\\AVG001\\\\Desktop\\\\job.csv\",inferSchema=True,header=True)"
   ]
  },
  {
   "cell_type": "code",
   "execution_count": null,
   "id": "924482c6-868b-43cb-99b3-86e62845eb3c",
   "metadata": {},
   "outputs": [],
   "source": []
  },
  {
   "cell_type": "code",
   "execution_count": 6,
   "id": "1e2e5e36-82ec-4f2e-bbe4-3b66c858197a",
   "metadata": {},
   "outputs": [
    {
     "name": "stdout",
     "output_type": "stream",
     "text": [
      "+-------+-------------+------+\n",
      "|   Name|  departments|salary|\n",
      "+-------+-------------+------+\n",
      "|     jp|data engineer|100000|\n",
      "| vamshi| data science| 50000|\n",
      "| vishnu|          iot| 40000|\n",
      "|akshith|     big data| 35000|\n",
      "|     jp|data engineer| 60000|\n",
      "|  shiva|   web design| 45000|\n",
      "|akshith|     big data| 75000|\n",
      "| vamshi| data science| 50000|\n",
      "|  shiva|   web design| 62000|\n",
      "+-------+-------------+------+\n",
      "\n"
     ]
    }
   ],
   "source": [
    "imputer.show()"
   ]
  },
  {
   "cell_type": "code",
   "execution_count": 9,
   "id": "79c95870-68ee-4d78-b687-f0940fd1be06",
   "metadata": {},
   "outputs": [
    {
     "name": "stdout",
     "output_type": "stream",
     "text": [
      "+-------+-----------+\n",
      "|   name|sum(salary)|\n",
      "+-------+-----------+\n",
      "|akshith|     110000|\n",
      "|     jp|     160000|\n",
      "| vishnu|      40000|\n",
      "| vamshi|     100000|\n",
      "|  shiva|     107000|\n",
      "+-------+-----------+\n",
      "\n"
     ]
    }
   ],
   "source": [
    "imputer.groupBy(\"name\").sum().show()"
   ]
  },
  {
   "cell_type": "code",
   "execution_count": 11,
   "id": "cb99ed6c-1ae2-4a9f-84ea-a585eaad6670",
   "metadata": {},
   "outputs": [
    {
     "name": "stdout",
     "output_type": "stream",
     "text": [
      "+-------------+-----------+\n",
      "|  departments|sum(salary)|\n",
      "+-------------+-----------+\n",
      "|     big data|     110000|\n",
      "| data science|     100000|\n",
      "|          iot|      40000|\n",
      "|   web design|     107000|\n",
      "|data engineer|     160000|\n",
      "+-------------+-----------+\n",
      "\n"
     ]
    }
   ],
   "source": [
    "imputer.groupBy(\"departments\").sum().show()"
   ]
  },
  {
   "cell_type": "code",
   "execution_count": 12,
   "id": "d3a4ddfc-d2ed-4abc-b116-5aed647d2451",
   "metadata": {},
   "outputs": [
    {
     "name": "stdout",
     "output_type": "stream",
     "text": [
      "+-------------+-----------+\n",
      "|  departments|avg(salary)|\n",
      "+-------------+-----------+\n",
      "|     big data|    55000.0|\n",
      "| data science|    50000.0|\n",
      "|          iot|    40000.0|\n",
      "|   web design|    53500.0|\n",
      "|data engineer|    80000.0|\n",
      "+-------------+-----------+\n",
      "\n"
     ]
    }
   ],
   "source": [
    "imputer.groupBy('departments').mean().show()"
   ]
  },
  {
   "cell_type": "code",
   "execution_count": 13,
   "id": "d37a41c6-b8a8-4378-9d7d-fff19ae46e0f",
   "metadata": {},
   "outputs": [
    {
     "name": "stdout",
     "output_type": "stream",
     "text": [
      "+-------------+-----+\n",
      "|  departments|count|\n",
      "+-------------+-----+\n",
      "|     big data|    2|\n",
      "| data science|    2|\n",
      "|          iot|    1|\n",
      "|   web design|    2|\n",
      "|data engineer|    2|\n",
      "+-------------+-----+\n",
      "\n"
     ]
    }
   ],
   "source": [
    "imputer.groupBy('departments').count().show()"
   ]
  },
  {
   "cell_type": "code",
   "execution_count": 14,
   "id": "00a9e7d9-22bb-47ed-9f41-f1f0448fe80f",
   "metadata": {},
   "outputs": [
    {
     "name": "stdout",
     "output_type": "stream",
     "text": [
      "+-------+-----+\n",
      "|   name|count|\n",
      "+-------+-----+\n",
      "|akshith|    2|\n",
      "|     jp|    2|\n",
      "| vishnu|    1|\n",
      "| vamshi|    2|\n",
      "|  shiva|    2|\n",
      "+-------+-----+\n",
      "\n"
     ]
    }
   ],
   "source": [
    "imputer.groupBy(\"name\").count().show()"
   ]
  },
  {
   "cell_type": "code",
   "execution_count": 15,
   "id": "49f003f6-9573-469e-85f7-eab7dcb052fa",
   "metadata": {},
   "outputs": [
    {
     "name": "stdout",
     "output_type": "stream",
     "text": [
      "+-----+\n",
      "|count|\n",
      "+-----+\n",
      "|    9|\n",
      "+-----+\n",
      "\n"
     ]
    }
   ],
   "source": [
    "imputer.groupBy().count().show()"
   ]
  },
  {
   "cell_type": "code",
   "execution_count": 1,
   "id": "bb2915d2-f6a3-41cc-835a-9925772b7eec",
   "metadata": {},
   "outputs": [],
   "source": [
    "from pyspark.sql import SparkSession"
   ]
  },
  {
   "cell_type": "code",
   "execution_count": 2,
   "id": "56163c05-a8db-46c1-ae7e-735c6c6bf075",
   "metadata": {},
   "outputs": [],
   "source": [
    "spark=SparkSession.builder.appName('aggrate functions').getOrCreate()"
   ]
  },
  {
   "cell_type": "code",
   "execution_count": 3,
   "id": "4b34edff-b86f-46c1-b220-0389d1869249",
   "metadata": {},
   "outputs": [],
   "source": [
    "imputer=spark.read.csv(\"C:\\\\Users\\\\AVG001\\\\Desktop\\\\job.csv\",inferSchema=True,header=True)"
   ]
  },
  {
   "cell_type": "code",
   "execution_count": 4,
   "id": "c3bd583f-b86f-4b33-ad93-2fc58d70c542",
   "metadata": {},
   "outputs": [
    {
     "name": "stdout",
     "output_type": "stream",
     "text": [
      "+-------+-------------+------+\n",
      "|   Name|  departments|salary|\n",
      "+-------+-------------+------+\n",
      "|     jp|data engineer|100000|\n",
      "| vamshi| data science| 50000|\n",
      "| vishnu|          iot| 40000|\n",
      "|akshith|     big data| 35000|\n",
      "|     jp|data engineer| 60000|\n",
      "|  shiva|   web design| 45000|\n",
      "|akshith|     big data| 75000|\n",
      "| vamshi| data science| 50000|\n",
      "|  shiva|   web design| 62000|\n",
      "+-------+-------------+------+\n",
      "\n"
     ]
    }
   ],
   "source": [
    "imputer.show()"
   ]
  },
  {
   "cell_type": "code",
   "execution_count": 5,
   "id": "4dbf7db9-e73d-43e9-a978-6f6066d0d8ed",
   "metadata": {},
   "outputs": [
    {
     "name": "stdout",
     "output_type": "stream",
     "text": [
      "+-------------+-----------+\n",
      "|  departments|sum(salary)|\n",
      "+-------------+-----------+\n",
      "|     big data|     110000|\n",
      "| data science|     100000|\n",
      "|          iot|      40000|\n",
      "|   web design|     107000|\n",
      "|data engineer|     160000|\n",
      "+-------------+-----------+\n",
      "\n"
     ]
    }
   ],
   "source": [
    "imputer.groupBy(\"departments\").sum().show()"
   ]
  },
  {
   "cell_type": "code",
   "execution_count": 6,
   "id": "f4b03f9a-882a-4734-9016-18369d5c8075",
   "metadata": {},
   "outputs": [
    {
     "name": "stdout",
     "output_type": "stream",
     "text": [
      "+-------+-----------+\n",
      "|   name|sum(salary)|\n",
      "+-------+-----------+\n",
      "|akshith|     110000|\n",
      "|     jp|     160000|\n",
      "| vishnu|      40000|\n",
      "| vamshi|     100000|\n",
      "|  shiva|     107000|\n",
      "+-------+-----------+\n",
      "\n"
     ]
    }
   ],
   "source": [
    "imputer.groupBy(\"name\").sum().show()"
   ]
  },
  {
   "cell_type": "code",
   "execution_count": 7,
   "id": "55977b23-3bbb-47cc-86c6-ea84ad522826",
   "metadata": {},
   "outputs": [
    {
     "name": "stdout",
     "output_type": "stream",
     "text": [
      "root\n",
      " |-- Name: string (nullable = true)\n",
      " |-- departments: string (nullable = true)\n",
      " |-- salary: integer (nullable = true)\n",
      "\n"
     ]
    }
   ],
   "source": [
    "imputer.printSchema()"
   ]
  },
  {
   "cell_type": "code",
   "execution_count": 8,
   "id": "7aad9e85-91b8-4869-8935-45f33d2ccffb",
   "metadata": {},
   "outputs": [
    {
     "name": "stdout",
     "output_type": "stream",
     "text": [
      "+-----------+\n",
      "|sum(salary)|\n",
      "+-----------+\n",
      "|     517000|\n",
      "+-----------+\n",
      "\n"
     ]
    }
   ],
   "source": [
    "imputer.agg({'salary':'sum'}).show()"
   ]
  },
  {
   "cell_type": "code",
   "execution_count": 12,
   "id": "234f2604-25c0-47b7-a644-6a4a9383d9a1",
   "metadata": {},
   "outputs": [
    {
     "name": "stdout",
     "output_type": "stream",
     "text": [
      "+-------+-----------+\n",
      "|   name|min(salary)|\n",
      "+-------+-----------+\n",
      "|akshith|      35000|\n",
      "|     jp|      60000|\n",
      "| vishnu|      40000|\n",
      "| vamshi|      50000|\n",
      "|  shiva|      45000|\n",
      "+-------+-----------+\n",
      "\n"
     ]
    }
   ],
   "source": [
    "imputer.groupBy('name').min().show()"
   ]
  },
  {
   "cell_type": "code",
   "execution_count": 14,
   "id": "8ae211eb-b7e4-4bdd-9c43-ebc9f3f42776",
   "metadata": {},
   "outputs": [],
   "source": [
    "mlalg=spark.read.csv(\"C:\\\\Users\\\\AVG001\\\\Desktop\\\\aurora.csv\",inferSchema=True,header=True)"
   ]
  },
  {
   "cell_type": "code",
   "execution_count": 15,
   "id": "9a9c71c3-596f-48c7-8ad4-fff3748d5dd8",
   "metadata": {},
   "outputs": [
    {
     "name": "stdout",
     "output_type": "stream",
     "text": [
      "+-------+---+----------+------+\n",
      "|   Name|age|Experience|salary|\n",
      "+-------+---+----------+------+\n",
      "| vishnu| 21|         2| 30000|\n",
      "|     jp| 20|         4| 50000|\n",
      "|shravan| 22|         3| 35000|\n",
      "| vamshi| 23|         4| 30000|\n",
      "|akshith| 23|         3| 35000|\n",
      "|  shiva| 21|         3| 40000|\n",
      "+-------+---+----------+------+\n",
      "\n"
     ]
    }
   ],
   "source": [
    "mlalg.show()"
   ]
  },
  {
   "cell_type": "code",
   "execution_count": 16,
   "id": "cf05cb33-2b85-452d-8d49-0049283c9b37",
   "metadata": {},
   "outputs": [
    {
     "name": "stdout",
     "output_type": "stream",
     "text": [
      "root\n",
      " |-- Name: string (nullable = true)\n",
      " |-- age: integer (nullable = true)\n",
      " |-- Experience: integer (nullable = true)\n",
      " |-- salary: integer (nullable = true)\n",
      "\n"
     ]
    }
   ],
   "source": [
    "mlalg.printSchema()"
   ]
  },
  {
   "cell_type": "code",
   "execution_count": 18,
   "id": "54d8281a-04d8-4be5-8aea-037c4db4dce2",
   "metadata": {},
   "outputs": [
    {
     "data": {
      "text/plain": [
       "['Name', 'age', 'Experience', 'salary']"
      ]
     },
     "execution_count": 18,
     "metadata": {},
     "output_type": "execute_result"
    }
   ],
   "source": [
    "mlalg.columns"
   ]
  },
  {
   "cell_type": "code",
   "execution_count": 21,
   "id": "1b175ab9-8ba1-496a-9236-b98eec32a17e",
   "metadata": {},
   "outputs": [],
   "source": [
    "    from pyspark.ml.feature import VectorAssembler\n"
   ]
  },
  {
   "cell_type": "code",
   "execution_count": 23,
   "id": "f3ff2e65-c098-41d2-9030-9c544f1cbd06",
   "metadata": {},
   "outputs": [],
   "source": [
    "featureassembler=VectorAssembler(inputCols=['age','Experience'],outputCol=\"Independent Features\")"
   ]
  },
  {
   "cell_type": "code",
   "execution_count": 25,
   "id": "4524911d-e021-494f-9b08-0c99b9472605",
   "metadata": {},
   "outputs": [],
   "source": [
    "output=featureassembler.transform(mlalg)"
   ]
  },
  {
   "cell_type": "code",
   "execution_count": 26,
   "id": "c0d6398a-fef4-422a-a020-0939bdc2aa55",
   "metadata": {},
   "outputs": [
    {
     "name": "stdout",
     "output_type": "stream",
     "text": [
      "+-------+---+----------+------+--------------------+\n",
      "|   Name|age|Experience|salary|Independent Features|\n",
      "+-------+---+----------+------+--------------------+\n",
      "| vishnu| 21|         2| 30000|          [21.0,2.0]|\n",
      "|     jp| 20|         4| 50000|          [20.0,4.0]|\n",
      "|shravan| 22|         3| 35000|          [22.0,3.0]|\n",
      "| vamshi| 23|         4| 30000|          [23.0,4.0]|\n",
      "|akshith| 23|         3| 35000|          [23.0,3.0]|\n",
      "|  shiva| 21|         3| 40000|          [21.0,3.0]|\n",
      "+-------+---+----------+------+--------------------+\n",
      "\n"
     ]
    }
   ],
   "source": [
    "output.show()"
   ]
  },
  {
   "cell_type": "code",
   "execution_count": 27,
   "id": "10adc1f9-a477-4f94-8a22-11cfc275ebd8",
   "metadata": {},
   "outputs": [],
   "source": [
    "vector=output.select(\"salary\",\"Independent Features\")"
   ]
  },
  {
   "cell_type": "code",
   "execution_count": 28,
   "id": "49893c26-3933-4510-b5e6-00ede512fb7f",
   "metadata": {},
   "outputs": [
    {
     "name": "stdout",
     "output_type": "stream",
     "text": [
      "+------+--------------------+\n",
      "|salary|Independent Features|\n",
      "+------+--------------------+\n",
      "| 30000|          [21.0,2.0]|\n",
      "| 50000|          [20.0,4.0]|\n",
      "| 35000|          [22.0,3.0]|\n",
      "| 30000|          [23.0,4.0]|\n",
      "| 35000|          [23.0,3.0]|\n",
      "| 40000|          [21.0,3.0]|\n",
      "+------+--------------------+\n",
      "\n"
     ]
    }
   ],
   "source": [
    "vector.show()"
   ]
  },
  {
   "cell_type": "code",
   "execution_count": 2,
   "id": "693ffd28-b43a-4d1c-8b85-b1a4fb2fd7c5",
   "metadata": {},
   "outputs": [],
   "source": [
    "from pyspark.sql import SparkSession\n",
    "spark=SparkSession.builder.appName('aggrate functions').getOrCreate()"
   ]
  },
  {
   "cell_type": "code",
   "execution_count": 11,
   "id": "9c88c438-5f5d-4298-af54-2d23eee7306a",
   "metadata": {},
   "outputs": [],
   "source": [
    "from pyspark.sql.types import StructType,StructField,IntegerType,StringType\n",
    "hello=StructType([\n",
    "       StructField(\"name\",StringType(),True),\n",
    "       StructField(\"rollno\",IntegerType(),True),\n",
    "       StructField(\"batchno\",IntegerType(),True)\n",
    "])\n",
    "\n",
    "sales=spark.read.format('csv').option(\"inferSchema\",\"true\").schema(hello).load(\"C:\\\\Users\\\\AVG001\\\\Desktop\\\\with.csv\")\n"
   ]
  },
  {
   "cell_type": "code",
   "execution_count": 6,
   "id": "01082902-2af8-4256-80e5-2478efbd81f8",
   "metadata": {},
   "outputs": [
    {
     "name": "stdout",
     "output_type": "stream",
     "text": [
      "+-------+------+-------+\n",
      "|   name|rollno|batchno|\n",
      "+-------+------+-------+\n",
      "|     jp|     1|     89|\n",
      "| vamshi|     2|     74|\n",
      "|vishnu |     3|     76|\n",
      "|akshith|     4|     70|\n",
      "|shravan|     5|     75|\n",
      "|  shiva|     6|     78|\n",
      "+-------+------+-------+\n",
      "\n"
     ]
    }
   ],
   "source": [
    "sales.show()"
   ]
  },
  {
   "cell_type": "code",
   "execution_count": null,
   "id": "2aa6af61-959e-4cbc-8272-194c6a9b0b1d",
   "metadata": {},
   "outputs": [],
   "source": []
  }
 ],
 "metadata": {
  "kernelspec": {
   "display_name": "Python 3 (ipykernel)",
   "language": "python",
   "name": "python3"
  },
  "language_info": {
   "codemirror_mode": {
    "name": "ipython",
    "version": 3
   },
   "file_extension": ".py",
   "mimetype": "text/x-python",
   "name": "python",
   "nbconvert_exporter": "python",
   "pygments_lexer": "ipython3",
   "version": "3.11.7"
  }
 },
 "nbformat": 4,
 "nbformat_minor": 5
}
